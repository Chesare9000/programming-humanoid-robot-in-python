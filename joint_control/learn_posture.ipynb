{
 "cells": [
  {
   "cell_type": "markdown",
   "metadata": {},
   "source": "# Learn Posture"
  },
  {
   "cell_type": "markdown",
   "metadata": {},
   "source": "use machine learning to recognize robot's posture (following the example in [scikit-learn-intro.ipynb](./scikit-learn-intro.ipynb) )"
  },
  {
   "cell_type": "markdown",
   "metadata": {},
   "source": "## 1. Data collection\n\nWe have colleceted data before, you need to add new data if you want to add new posture.\n\n* the dateset are in *robot_pose_data* folder\n* each file contains the data belongs to this posture, e.g. the data in *Back* file are collected when robot was in \"Back\" posture\n* the data file can be load by ```pickle```, e.g. ```pickle.load(open('Back'))```, the data is a list of feature data\n* the features (e.g. each row of the data) are ['LHipYawPitch', 'LHipRoll', 'LHipPitch', 'LKneePitch', 'RHipYawPitch', 'RHipRoll', 'RHipPitch', 'RKneePitch', 'AngleX', 'AngleY'], where 'AngleX' and 'AngleY' are body angle (e.g. ```Perception.imu```) and others are joint angles."
  },
  {
   "cell_type": "markdown",
   "metadata": {},
   "source": "## 2. Data preprocessing"
  },
  {
   "cell_type": "code",
   "execution_count": 1,
   "metadata": {},
   "outputs": [
    {
     "name": "stdout",
     "output_type": "stream",
     "text": "Populating the interactive namespace from numpy and matplotlib\n"
    }
   ],
   "source": "%pylab inline\nimport pickle\nfrom os import listdir, path\nimport numpy as np\nfrom sklearn import svm, metrics\n\nROBOT_POSE_DATA_DIR = 'robot_pose_data'"
  },
  {
   "cell_type": "code",
   "execution_count": 2,
   "metadata": {},
   "outputs": [
    {
     "name": "stdout",
     "output_type": "stream",
     "text": "['HeadBack', 'Left', 'Crouch', 'StandInit', 'Knee', 'Frog', 'Back', 'Stand', 'Sit', 'Belly', 'Right']\n"
    }
   ],
   "source": "classes = listdir(ROBOT_POSE_DATA_DIR)\nprint classes"
  },
  {
   "cell_type": "code",
   "execution_count": 3,
   "metadata": {},
   "outputs": [],
   "source": "def load_pose_data(i):\n    '''load pose data from file'''\n    data = []\n    target = []\n    # YOUR CODE HERE\n    \n    filename = path.join(ROBOT_POSE_DATA_DIR, classes[i])\n    data = pickle.load(open(filename))\n    target = [i] * len(data)\n    return data, target"
  },
  {
   "cell_type": "code",
   "execution_count": 4,
   "metadata": {},
   "outputs": [
    {
     "name": "stdout",
     "output_type": "stream",
     "text": "total number of data 223\n"
    }
   ],
   "source": "# load all the data\nall_data = []\nall_target = []\n# YOUR CODE HERE\nfor i in range(0,len(classes)):\n    data, target= load_pose_data(i)\n    all_data+=data\n    all_target+= target\nprint 'total number of data', len(all_data)"
  },
  {
   "cell_type": "code",
   "execution_count": 5,
   "metadata": {},
   "outputs": [],
   "source": "# shuffule data\npermutation = np.random.permutation(len(all_data))\nn_training_data = int(len(all_data) * 0.7)\ntraining_data = permutation[:n_training_data]"
  },
  {
   "cell_type": "markdown",
   "metadata": {},
   "source": "## 3. Learn on training data\n\nIn scikit-learn, an estimator for classification is a Python object that implements the methods fit(X, y) and predict(T). An example of an estimator is the class sklearn.svm.SVC that implements support vector classification."
  },
  {
   "cell_type": "code",
   "execution_count": 6,
   "metadata": {},
   "outputs": [],
   "source": "clf = svm.SVC(gamma=0.001, C=100.)"
  },
  {
   "cell_type": "markdown",
   "metadata": {},
   "source": "### learning"
  },
  {
   "cell_type": "code",
   "execution_count": 7,
   "metadata": {},
   "outputs": [],
   "source": "# YOUR CODE HERE\nimport copy\npermuted_training_data=[]\npermuted_training_target=[]\ntest_data=[]\ntest_target=[]\ncount_deleted=copy.deepcopy(all_target)\nfor i in training_data:\n    permuted_training_data.append(all_data[i])\n    permuted_training_target.append(all_target[i])\n    count_deleted[i]=-1\nclf.fit(permuted_training_data,permuted_training_target)\n\nfor i in range(0,len(count_deleted)):\n    if count_deleted[i]==-1:\n        continue\n    test_data.append(all_data[i])\n    test_target.append(all_target[i])\n"
  },
  {
   "cell_type": "markdown",
   "metadata": {},
   "source": "### predicting"
  },
  {
   "cell_type": "code",
   "execution_count": 13,
   "metadata": {},
   "outputs": [
    {
     "data": {
      "text/plain": "(array([2]), 10)"
     },
     "execution_count": 13,
     "metadata": {},
     "output_type": "execute_result"
    }
   ],
   "source": "clf.predict(all_data[-1:]), all_target[-1]"
  },
  {
   "cell_type": "code",
   "execution_count": 14,
   "metadata": {},
   "outputs": [],
   "source": "def evaluate(expected, predicted):\n    print(\"Classification report:\\n%s\\n\" % metrics.classification_report(expected, predicted))\n\n    print(\"Confusion matrix:\\n%s\" % metrics.confusion_matrix(expected, predicted))"
  },
  {
   "cell_type": "code",
   "execution_count": 15,
   "metadata": {},
   "outputs": [
    {
     "name": "stdout",
     "output_type": "stream",
     "text": "Classification report:\n             precision    recall  f1-score   support\n\n          0       1.00      1.00      1.00         7\n          1       1.00      1.00      1.00        14\n          2       1.00      1.00      1.00        24\n          3       1.00      1.00      1.00        38\n          4       1.00      1.00      1.00         6\n          5       1.00      1.00      1.00         7\n          6       1.00      1.00      1.00        16\n          7       1.00      1.00      1.00         9\n          8       1.00      1.00      1.00        13\n          9       1.00      1.00      1.00        15\n         10       1.00      1.00      1.00         7\n\navg / total       1.00      1.00      1.00       156\n\n\nConfusion matrix:\n[[ 7  0  0  0  0  0  0  0  0  0  0]\n [ 0 14  0  0  0  0  0  0  0  0  0]\n [ 0  0 24  0  0  0  0  0  0  0  0]\n [ 0  0  0 38  0  0  0  0  0  0  0]\n [ 0  0  0  0  6  0  0  0  0  0  0]\n [ 0  0  0  0  0  7  0  0  0  0  0]\n [ 0  0  0  0  0  0 16  0  0  0  0]\n [ 0  0  0  0  0  0  0  9  0  0  0]\n [ 0  0  0  0  0  0  0  0 13  0  0]\n [ 0  0  0  0  0  0  0  0  0 15  0]\n [ 0  0  0  0  0  0  0  0  0  0  7]]\n"
    }
   ],
   "source": "\nexpected = []\npredicted = []\n\npredicted= clf.predict(permuted_training_data)\nexpected=permuted_training_target\n\nevaluate(expected, predicted)"
  },
  {
   "cell_type": "markdown",
   "metadata": {},
   "source": "## 4. Evaluate on the test data"
  },
  {
   "cell_type": "code",
   "execution_count": 16,
   "metadata": {},
   "outputs": [
    {
     "name": "stdout",
     "output_type": "stream",
     "text": "Classification report:\n             precision    recall  f1-score   support\n\n          0       1.00      1.00      1.00         3\n          1       1.00      1.00      1.00         6\n          2       0.86      1.00      0.92         6\n          3       1.00      1.00      1.00        14\n          4       1.00      1.00      1.00         4\n          5       1.00      1.00      1.00         3\n          6       1.00      1.00      1.00         8\n          7       1.00      1.00      1.00         2\n          8       1.00      1.00      1.00        13\n          9       1.00      1.00      1.00         4\n         10       1.00      0.75      0.86         4\n\navg / total       0.99      0.99      0.98        67\n\n\nConfusion matrix:\n[[ 3  0  0  0  0  0  0  0  0  0  0]\n [ 0  6  0  0  0  0  0  0  0  0  0]\n [ 0  0  6  0  0  0  0  0  0  0  0]\n [ 0  0  0 14  0  0  0  0  0  0  0]\n [ 0  0  0  0  4  0  0  0  0  0  0]\n [ 0  0  0  0  0  3  0  0  0  0  0]\n [ 0  0  0  0  0  0  8  0  0  0  0]\n [ 0  0  0  0  0  0  0  2  0  0  0]\n [ 0  0  0  0  0  0  0  0 13  0  0]\n [ 0  0  0  0  0  0  0  0  0  4  0]\n [ 0  0  1  0  0  0  0  0  0  0  3]]\n"
    }
   ],
   "source": "expected = []\npredicted = []\npredicted= clf.predict(test_data)\nexpected=test_target\n\nevaluate(expected, predicted)"
  },
  {
   "cell_type": "markdown",
   "metadata": {},
   "source": "## 5. Deploy to the real system\n\nWe can simple use `pickle` module to serialize the trained classifier."
  },
  {
   "cell_type": "code",
   "execution_count": 17,
   "metadata": {},
   "outputs": [],
   "source": "import pickle\nROBOT_POSE_CLF = 'robot_pose.pkl'\npickle.dump(clf, open(ROBOT_POSE_CLF, 'w'))"
  },
  {
   "cell_type": "markdown",
   "metadata": {},
   "source": "Then, in the application we can load the trained classifier again."
  },
  {
   "cell_type": "code",
   "execution_count": 19,
   "metadata": {},
   "outputs": [
    {
     "data": {
      "text/plain": "(array([2]), [10])"
     },
     "execution_count": 19,
     "metadata": {},
     "output_type": "execute_result"
    }
   ],
   "source": "clf2 = pickle.load(open(ROBOT_POSE_CLF))\nclf2.predict(all_data[-1:]), all_target[-1:]"
  },
  {
   "cell_type": "code",
   "execution_count": null,
   "metadata": {},
   "outputs": [],
   "source": ""
  },
  {
   "cell_type": "code",
   "execution_count": null,
   "metadata": {},
   "outputs": [],
   "source": ""
  }
 ],
 "metadata": {
  "kernelspec": {
   "display_name": "Python 2",
   "language": "python",
   "name": "python2"
  },
  "language_info": {
   "codemirror_mode": {
    "name": "ipython",
    "version": 2
   },
   "file_extension": ".py",
   "mimetype": "text/x-python",
   "name": "python",
   "nbconvert_exporter": "python",
   "pygments_lexer": "ipython2",
   "version": "2.7.17"
  },
  "widgets": {
   "state": {},
   "version": "1.0.0"
  }
 },
 "nbformat": 4,
 "nbformat_minor": 1
}
